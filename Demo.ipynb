{
 "cells": [
  {
   "cell_type": "markdown",
   "metadata": {},
   "source": [
    "# Fake news detector"
   ]
  },
  {
   "cell_type": "markdown",
   "metadata": {},
   "source": [
    "**Disclaimer**: This work is a personal side project and more importantly a work in progress, it is only a quick unfinished review of classic ML method for NLP. It might contain mistakes, don't hesitate to contact me via github if you find one."
   ]
  },
  {
   "cell_type": "code",
   "execution_count": 70,
   "metadata": {},
   "outputs": [
    {
     "name": "stdout",
     "output_type": "stream",
     "text": [
      "[nltk_data] Downloading package stopwords to\n",
      "[nltk_data]     /Users/felixgaschi/nltk_data...\n",
      "[nltk_data]   Package stopwords is already up-to-date!\n"
     ]
    },
    {
     "data": {
      "text/plain": [
       "True"
      ]
     },
     "execution_count": 70,
     "metadata": {},
     "output_type": "execute_result"
    }
   ],
   "source": [
    "import pandas as pd\n",
    "import numpy as np\n",
    "\n",
    "import nltk\n",
    "from nltk.stem import PorterStemmer\n",
    "from nltk.tokenize import sent_tokenize, word_tokenize\n",
    "from nltk.corpus import stopwords\n",
    "\n",
    "from sklearn.feature_extraction.text import TfidfVectorizer\n",
    "from sklearn.decomposition import PCA, SparsePCA\n",
    "from sklearn.pipeline import Pipeline\n",
    "from sklearn.linear_model import LogisticRegression\n",
    "from sklearn.model_selection import cross_val_score, train_test_split\n",
    "from sklearn.metrics import confusion_matrix\n",
    "\n",
    "import re\n",
    "\n",
    "nltk.download(\"stopwords\")"
   ]
  },
  {
   "cell_type": "markdown",
   "metadata": {},
   "source": [
    "## Presentation of the data"
   ]
  },
  {
   "cell_type": "markdown",
   "metadata": {},
   "source": [
    "The dataset is drawn from the following Kaggle competition: https://www.kaggle.com/c/fake-news/\n",
    "\n",
    "It contains the following features:\n",
    "- id: unique id for a news article\n",
    "- title: the title of a news article\n",
    "- author: author of the news article\n",
    "- text: the text of the article; could be incomplete\n",
    "- label: a label that marks the article as potentially unreliable\n",
    "    - 1: unreliable\n",
    "    - 0: reliable"
   ]
  },
  {
   "cell_type": "code",
   "execution_count": 2,
   "metadata": {},
   "outputs": [],
   "source": [
    "# Loading files\n",
    "\n",
    "train = pd.read_csv(\"train.csv\")\n",
    "test = pd.read_csv(\"test.csv\")\n",
    "\n",
    "df = train.dropna(subset=[\"text\"])[[\"id\", \"text\", \"label\"]]"
   ]
  },
  {
   "cell_type": "markdown",
   "metadata": {},
   "source": [
    "## Preprocessing"
   ]
  },
  {
   "cell_type": "markdown",
   "metadata": {},
   "source": [
    "First, we will consider only the content of the article (we might consider their title and author later).\n",
    "\n",
    "First we must preprocess the contents. \n",
    "\n",
    "We will follow the following steps:\n",
    "- clean the text (remove symbols and digits and set text to lowercase)\n",
    "- tokenize\n",
    "- stem\n",
    "- remove stopwords"
   ]
  },
  {
   "cell_type": "code",
   "execution_count": 3,
   "metadata": {},
   "outputs": [],
   "source": [
    "# preprocessing function\n",
    "ps = PorterStemmer()\n",
    "stop = set(stopwords.words(\"english\"))\n",
    "\n",
    "def preprocess(text):\n",
    "    \"\"\"\n",
    "    Cleans the text and transforms it into lists\n",
    "    \"\"\"\n",
    "    text = re.sub('[^a-zA-Z\\s]', '', text)\n",
    "    text = text.lower()\n",
    "    words = word_tokenize(text)\n",
    "    stems = [ps.stem(w) for w in words if w not in stop]\n",
    "    return \" \".join(stems)"
   ]
  },
  {
   "cell_type": "markdown",
   "metadata": {},
   "source": [
    "From there we can implement several ML techniques, three of the most popular are:\n",
    "\n",
    "- Logistic regression\n",
    "- SVM\n",
    "- RandomForest\n",
    "\n",
    "First, we test the logistic regression."
   ]
  },
  {
   "cell_type": "markdown",
   "metadata": {},
   "source": [
    "## Logistic regression"
   ]
  },
  {
   "cell_type": "markdown",
   "metadata": {},
   "source": [
    "As input data, we use the tfidf. I will later use document embedding and compare both data representation.\n",
    "\n",
    "A small grid search that we did outside of this notebook gave us the following parameters for the TFIDF:\n",
    "- ngram_range (size of ngram considered) : (1,2) (for computability reasons, I only tested (1,1) and (1,2))\n",
    "- max_df (the maximum document frequency) : 0.75\n",
    "- min_df (the minimum document frequency) : 0\n",
    "\n",
    "I am surprised to find a minimum document frequency of 0, I might do a new grid search with smaller values of min_df later.\n",
    "\n",
    "A grid search also gave us a value for the constant C of the logistic regression: 1000."
   ]
  },
  {
   "cell_type": "code",
   "execution_count": 73,
   "metadata": {},
   "outputs": [],
   "source": [
    "# we build the pipeline\n",
    "logRegPipe = Pipeline([\n",
    "    (\"tfidf\", TfidfVectorizer(ngram_range=(1,2), preprocessor = lambda x: preprocess(x), max_df=0.75, min_df=0.0)),\n",
    "    (\"logreg\", LogisticRegression(C=1000))\n",
    "])"
   ]
  },
  {
   "cell_type": "markdown",
   "metadata": {},
   "source": [
    "We compute a 3-folds cross validation score. "
   ]
  },
  {
   "cell_type": "code",
   "execution_count": 74,
   "metadata": {},
   "outputs": [
    {
     "name": "stdout",
     "output_type": "stream",
     "text": [
      "Mean CV score:  0.9605991886411994\n"
     ]
    }
   ],
   "source": [
    "scores = cross_val_score(logRegPipe, df[\"text\"], df[\"label\"], cv=3)\n",
    "print(\"Mean CV score: \", np.mean(np.array(scores)))"
   ]
  },
  {
   "cell_type": "markdown",
   "metadata": {},
   "source": [
    "### Confusion matrix"
   ]
  },
  {
   "cell_type": "markdown",
   "metadata": {},
   "source": [
    "To compute a confusion matrix, we create a train/test split of the data."
   ]
  },
  {
   "cell_type": "code",
   "execution_count": 75,
   "metadata": {},
   "outputs": [],
   "source": [
    "A, B = train_test_split(df, random_state=42)"
   ]
  },
  {
   "cell_type": "code",
   "execution_count": 76,
   "metadata": {},
   "outputs": [],
   "source": [
    "logRegPipe.fit(A[\"text\"], A[\"label\"])\n",
    "y = logRegPipe.predict(B[\"text\"])"
   ]
  },
  {
   "cell_type": "code",
   "execution_count": 77,
   "metadata": {},
   "outputs": [
    {
     "data": {
      "image/png": "[encoded data removed]",
      "text/plain": [
       "<Figure size 432x288 with 2 Axes>"
      ]
     },
     "metadata": {},
     "output_type": "display_data"
    }
   ],
   "source": [
    "import seaborn as sn\n",
    "\n",
    "cm = confusion_matrix(B[\"label\"], y) / len(B[\"label\"])\n",
    "df_cm = pd.DataFrame(cm, columns = [0, 1], index = [0, 1])\n",
    "sn.heatmap(df_cm, annot=True)\n",
    "plt.xlabel(\"Prediction\")\n",
    "plt.ylabel(\"True label\")\n",
    "plt.show()"
   ]
  },
  {
   "cell_type": "markdown",
   "metadata": {},
   "source": [
    "There is more unreliable (true label 1) articles predicted as reliable than reliable articles predicted as unreliable.\n",
    "\n",
    "If we want to broadcast only reliable article, our estimator is not that good. In that case, we might want to do the grid search with an appropriate scoring (the proportion of unreliable articles classified as reliable for example).\n",
    "\n",
    "To conclude this part about the logistic regression, we can look at the most important coefficient."
   ]
  },
  {
   "cell_type": "markdown",
   "metadata": {},
   "source": [
    "### Coefficient of the logistic regression"
   ]
  },
  {
   "cell_type": "code",
   "execution_count": 78,
   "metadata": {},
   "outputs": [],
   "source": [
    "pipeline = logRegPipe\n",
    "coefs = pipeline.named_steps[\"logreg\"].coef_.copy()\n",
    "voc = pipeline.named_steps[\"tfidf\"].vocabulary_\n",
    "\n",
    "def get_word(voc, index):\n",
    "    for (elt, i) in voc.items():\n",
    "        if (i==index):\n",
    "            return elt\n",
    "    return None\n",
    "\n",
    "best = []\n",
    "worst = []\n",
    "for i in range(10):\n",
    "    arg = np.argmax(coefs)\n",
    "    best.append((get_word(voc, arg), coefs[0, arg]))\n",
    "    coefs[0, arg] = 0\n",
    "    \n",
    "    \n",
    "    arg = np.argmax(-coefs)\n",
    "    worst.append((get_word(voc, arg), coefs[0, arg]))\n",
    "    coefs[0, arg] = 0"
   ]
  },
  {
   "cell_type": "code",
   "execution_count": 79,
   "metadata": {},
   "outputs": [
    {
     "data": {
      "image/png": "[encoded data removed]",
      "text/plain": [
       "<Figure size 640x480 with 2 Axes>"
      ]
     },
     "metadata": {},
     "output_type": "display_data"
    }
   ],
   "source": [
    "plt.rcdefaults()\n",
    "fig, axes = plt.subplots(nrows=1, ncols=2)\n",
    "[ax1, ax2] = axes\n",
    "\n",
    "# Example data\n",
    "people = ('Tom', 'Dick', 'Harry', 'Slim', 'Jim')\n",
    "y_pos = np.arange(len(people))\n",
    "performance = 3 + 10 * np.random.rand(len(people))\n",
    "error = np.random.rand(len(people))\n",
    "\n",
    "y_pos = np.arange(10)\n",
    "worst_words = [elt[0] for elt in worst]\n",
    "best_words = [elt[0] for elt in best]\n",
    "worst_score = [elt[1] for elt in worst]\n",
    "best_score = [elt[1] for elt in best]\n",
    "\n",
    "ax1.barh(y_pos, best_score, align='center',\n",
    "        color='blue', ecolor='black')\n",
    "ax1.set_yticks(y_pos)\n",
    "ax1.set_yticklabels(best_words)\n",
    "ax1.invert_yaxis()  # labels read top-to-bottom\n",
    "ax1.set_xlabel('coefficient')\n",
    "ax1.set_title('Reliable news')\n",
    "\n",
    "ax2.barh(y_pos, worst_score, align='center',\n",
    "        color='blue', ecolor='black')\n",
    "ax2.set_yticks(y_pos)\n",
    "ax2.set_yticklabels(worst_words)\n",
    "ax2.invert_yaxis()  # labels read top-to-bottom\n",
    "ax2.set_xlabel('coefficient')\n",
    "ax2.set_title('Unreliable news')\n",
    "\n",
    "plt.tight_layout()\n",
    "plt.show()"
   ]
  },
  {
   "cell_type": "markdown",
   "metadata": {},
   "source": [
    "We notice that a few words seem relevant. For example the word \"said\" is a sign of reliability. It might be due to the fact that reliable articles quotes different people, so the word \"said\" would appear more.\n",
    "\n",
    "Nevertheless, most of the words don't seem very relevant. The model seems to be influenced by the events at the time of the creation of the dataset (judging by the presence of the words \"obama\", \"fbi\", \"clinton\", \"hillary\"). If the model works well on the dataset, it might not be working on different data. Solutions to that could be:\n",
    "- build a custom stop-words list (remove words based on their grammatical type for example with NLTK) \n",
    "- use models based on sentences or sequences of words. For example, we could have increased the n_gram parameter of tfidf, but it would have taken too much time to compute, or we could make our custom word embedding.\n",
    "\n",
    "A word-based technique seems to have its limits. "
   ]
  },
  {
   "cell_type": "markdown",
   "metadata": {},
   "source": [
    "## Get the score of an article online"
   ]
  },
  {
   "cell_type": "markdown",
   "metadata": {},
   "source": [
    "We use the newspaper3k python module\n",
    "\n",
    "https://newspaper.readthedocs.io/en/latest/"
   ]
  },
  {
   "cell_type": "code",
   "execution_count": 80,
   "metadata": {},
   "outputs": [],
   "source": [
    "from newspaper import Article\n",
    "\n",
    "def give_score(link):\n",
    "    \"\"\"Takes an article and outputs the probability\n",
    "    that it is reliable according to the logistic regression\n",
    "    (the probability it belongs to class 0)\"\"\"\n",
    "    article = Article(link)\n",
    "    article.download()\n",
    "    article.parse()\n",
    "    text = preprocess(article.text)\n",
    "    return logRegPipe.predict_proba([text])[0][0]"
   ]
  },
  {
   "cell_type": "code",
   "execution_count": 81,
   "metadata": {},
   "outputs": [
    {
     "name": "stdout",
     "output_type": "stream",
     "text": [
      "reliability:  0.9687695192636089\n"
     ]
    }
   ],
   "source": [
    "# try with a BBC article\n",
    "score = give_score(\"https://www.nytimes.com/2018/11/06/us/politics/patriotism-midterms-trump.html\")\n",
    "print(\"reliability: \", score)"
   ]
  },
  {
   "cell_type": "code",
   "execution_count": 82,
   "metadata": {},
   "outputs": [
    {
     "name": "stdout",
     "output_type": "stream",
     "text": [
      "reliability:  0.496052060219619\n"
     ]
    }
   ],
   "source": [
    "# and now with an article from The Onion (a parodic online newspaper)\n",
    "score = give_score(\"https://politics.theonion.com/north-carolina-voter-in-heavily-gerrymandered-district-1830260864\")\n",
    "print(\"reliability: \", score)"
   ]
  },
  {
   "cell_type": "code",
   "execution_count": 83,
   "metadata": {},
   "outputs": [
    {
     "name": "stdout",
     "output_type": "stream",
     "text": [
      "reliability:  0.8789563162426713\n"
     ]
    }
   ],
   "source": [
    "# Now with a known fake piece of news from Breitbar\n",
    "score = give_score(\"https://www.breitbart.com/the-media/2017/04/19/msnbc-counter-terrorism-analyst-calls-for-isis-bombing-of-trump-property/\")\n",
    "print(\"reliability: \", score)"
   ]
  },
  {
   "cell_type": "code",
   "execution_count": 84,
   "metadata": {},
   "outputs": [
    {
     "name": "stdout",
     "output_type": "stream",
     "text": [
      "reliability:  0.0243864755383858\n"
     ]
    }
   ],
   "source": [
    "# Finally an anti-Semite article from Breitbar\n",
    "score = give_score(\"https://www.breitbart.com/politics/2016/05/15/bill-kristol-republican-spoiler-renegade-jew/\")\n",
    "print(\"reliability: \", score)"
   ]
  },
  {
   "cell_type": "markdown",
   "metadata": {},
   "source": [
    "With these few trials, we find that unreliable articles are often classified as reliable (as we have seen with the confusion matrix above). It might be due to the fact that some unreliable article are only unreliable because of the misinformation, but the vocabulary, the tone are the same as in a reliable article. "
   ]
  },
  {
   "cell_type": "markdown",
   "metadata": {},
   "source": [
    "## TODO\n",
    "\n",
    "- apply document embedding\n",
    "- do the same with SVM and RandomForest\n",
    "- Try to combine the score of the three estimators to get better results"
   ]
  }
 ],
 "metadata": {
  "kernelspec": {
   "display_name": "Python 3",
   "language": "python",
   "name": "python3"
  },
  "language_info": {
   "codemirror_mode": {
    "name": "ipython",
    "version": 3
   },
   "file_extension": ".py",
   "mimetype": "text/x-python",
   "name": "python",
   "nbconvert_exporter": "python",
   "pygments_lexer": "ipython3",
   "version": "3.6.2"
  }
 },
 "nbformat": 4,
 "nbformat_minor": 2
}
